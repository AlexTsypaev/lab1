{
 "cells": [
  {
   "cell_type": "markdown",
   "metadata": {
    "id": "M-DGa20PaHnu"
   },
   "source": [
    "#Задача 1\n",
    "Написать функцию на вход которой подается строка, состоящая из латинских букв.\n",
    "Функция должна вернуть количество гласных букв (a, e, i, o, u) в этой строке. Написать тесты для кода"
   ]
  },
  {
   "cell_type": "code",
   "execution_count": 1,
   "metadata": {
    "id": "XvX8X_JJ6PCb"
   },
   "outputs": [
    {
     "name": "stdout",
     "output_type": "stream",
     "text": [
      "Тесты пройдены!\n"
     ]
    }
   ],
   "source": [
    "def count_vowels(string):\n",
    "    vowels = 'aeiouAEIOU'\n",
    "    count = 0\n",
    "    for char in string:\n",
    "        if char in vowels:\n",
    "            count += 1\n",
    "    return count\n",
    "\n",
    "# Тесты\n",
    "def test_count_vowels():\n",
    "    assert count_vowels('') == 0\n",
    "    assert count_vowels('rhythm') == 0\n",
    "    assert count_vowels('aeiou') == 5\n",
    "    assert count_vowels('Hello World') == 3\n",
    "    assert count_vowels('AeIoU') == 5\n",
    "    assert count_vowels('banana') == 3\n",
    "    print(\"Тесты пройдены!\")\n",
    "\n",
    "test_count_vowels()"
   ]
  },
  {
   "cell_type": "markdown",
   "metadata": {
    "id": "t2ClV_Y0bbr6"
   },
   "source": [
    "# Задача 2\n",
    "Написать функцию на вход, которой подается строка. Функция должна вернуть true, если\n",
    "каждый символ в строке встречается только 1 раз, иначе должна вернуть false. Написать тесты для кода"
   ]
  },
  {
   "cell_type": "code",
   "execution_count": 2,
   "metadata": {
    "id": "FppbECao6VIz"
   },
   "outputs": [
    {
     "name": "stdout",
     "output_type": "stream",
     "text": [
      "Тесты пройдены!\n"
     ]
    }
   ],
   "source": [
    "def unique_characters(string):\n",
    "    char_count = {}\n",
    "    for char in string:\n",
    "        if char in char_count:\n",
    "            return False\n",
    "        char_count[char] = 1\n",
    "    return True\n",
    "\n",
    "def test_unique_characters():\n",
    "    assert unique_characters('') == True\n",
    "    assert unique_characters('abcdefg') == True\n",
    "    assert unique_characters('hello') == False\n",
    "    assert unique_characters('Python') == True\n",
    "    assert unique_characters('a b c d e') == False\n",
    "    print(\"Тесты пройдены!\")\n",
    "\n",
    "test_unique_characters()"
   ]
  },
  {
   "cell_type": "markdown",
   "metadata": {
    "id": "udRiIK1cdt6E"
   },
   "source": [
    "# Задача 3\n",
    "Написать функцию, которая принимает положительное число и возвращает количество\n",
    "бит равных 1 в этом числе. Написать тесты для кода"
   ]
  },
  {
   "cell_type": "code",
   "execution_count": 3,
   "metadata": {
    "id": "6tkfDJRz6dp_"
   },
   "outputs": [
    {
     "name": "stdout",
     "output_type": "stream",
     "text": [
      "Тесты пройдены!\n"
     ]
    }
   ],
   "source": [
    "def count_set_bits(number):\n",
    "    count = 0\n",
    "    while number:\n",
    "        count += number & 1\n",
    "        number >>= 1\n",
    "    return count\n",
    "\n",
    "def test_count_set_bits():\n",
    "    assert count_set_bits(0) == 0\n",
    "    assert count_set_bits(1) == 1\n",
    "    assert count_set_bits(2) == 1\n",
    "    assert count_set_bits(10) == 2\n",
    "    assert count_set_bits(255) == 8\n",
    "    assert count_set_bits(1023) == 10\n",
    "    print(\"Тесты пройдены!\")\n",
    "\n",
    "test_count_set_bits()"
   ]
  },
  {
   "cell_type": "markdown",
   "metadata": {
    "id": "26dDUz-Ae17N"
   },
   "source": [
    "# Задача 4\n",
    "Написать функцию, которая принимает положительное число. Функция должна вернуть то,\n",
    "сколько раз необходимо перемножать цифры числа или результат перемножения, чтобы\n",
    "получилось число состоящее из одной цифры.\n",
    "Например, для входного числа:\n",
    "· 39 функция должна вернуть 3, так как 3*9=27 => 2*7=14 => 1*4=4\n",
    "· 4 функция должна вернуть 0, так как число уже состоит из одной цифры\n",
    "· 999 функция должна вернуть 4, так как 9*9*9=729 => 7*2*9=126 => 1*2*6=12 =>\n",
    "1*2=2. Написать тесты для кода"
   ]
  },
  {
   "cell_type": "code",
   "execution_count": 6,
   "metadata": {
    "id": "BH1A_Mgi6i4G"
   },
   "outputs": [
    {
     "name": "stdout",
     "output_type": "stream",
     "text": [
      "Тесты пройдены!\n",
      "test 1: True\n",
      "test 2: True\n",
      "test 3: True\n",
      "test 4: True\n"
     ]
    }
   ],
   "source": [
    "def magic(n):\n",
    "    counter = 0\n",
    "    if n < 10:\n",
    "        return counter\n",
    "    \n",
    "    while n >= 10:\n",
    "        n_string = str(n)\n",
    "        product = 1\n",
    "        for digit in n_string:\n",
    "            product *= int(digit)\n",
    "        n = product\n",
    "        counter += 1\n",
    "    return counter\n",
    "\n",
    "def test_magic():\n",
    "    assert magic(39)==3\n",
    "    assert magic(999)==4\n",
    "    assert magic(4)==0\n",
    "    assert magic(900)==1\n",
    "    print(\"Тесты пройдены!\")\n",
    "\n",
    "test_magic()\n",
    "\n"
   ]
  },
  {
   "cell_type": "markdown",
   "metadata": {
    "id": "0nS-kIa8g8vd"
   },
   "source": [
    "# Задача 5\n",
    "Написать функцию, которая принимает два целочисленных вектора одинаковой длины и\n",
    "возвращает среднеквадратическое отклонение двух векторов. Написать тесты для кода"
   ]
  },
  {
   "cell_type": "code",
   "execution_count": 10,
   "metadata": {
    "id": "8iphx4LM6xbx"
   },
   "outputs": [
    {
     "name": "stdout",
     "output_type": "stream",
     "text": [
      "Тесты пройдены!\n"
     ]
    }
   ],
   "source": [
    "def mse(pred, true):\n",
    "    squared_diff = [(x - y) ** 2 for x, y in zip(pred, true)]\n",
    "    msd = sum(squared_diff) / len(pred)\n",
    "    \n",
    "    return msd\n",
    "\n",
    "def test_mse():\n",
    "    assert mse([3,4],[0,5]) == 5.0\n",
    "    print(\"Тесты пройдены!\")\n",
    "\n",
    "test_mse()"
   ]
  },
  {
   "cell_type": "markdown",
   "metadata": {
    "id": "vpIPKL439zkw"
   },
   "source": [
    "# Задача 6\n",
    "Написать функцию, принимающая целое положительное число. Функция должна вернуть\n",
    "строку вида “(n1**p1)(n2**p2)…(nk**pk)” представляющая разложение числа на простые\n",
    "множители (если pi == 1, то выводить только ni).\n",
    "Например, для числа 86240 функция должна вернуть “(2**5)(5)(7**2)(11)”. Написать тесты для кода"
   ]
  },
  {
   "cell_type": "code",
   "execution_count": 11,
   "metadata": {
    "id": "pFebmcZk94Jw"
   },
   "outputs": [
    {
     "name": "stdout",
     "output_type": "stream",
     "text": [
      "Тесты пройдены!\n"
     ]
    }
   ],
   "source": [
    "def prime_factors(n):\n",
    "    factors = []\n",
    "    divisor = 2\n",
    "    while n > 1:\n",
    "        if n % divisor == 0:\n",
    "            count = 0\n",
    "            while n % divisor == 0:\n",
    "                n //= divisor\n",
    "                count += 1\n",
    "            factors.append((divisor, count))\n",
    "        divisor += 1\n",
    "    return factors\n",
    "\n",
    "def factorization_string(n):\n",
    "    factors = prime_factors(n)\n",
    "    result = \"\"\n",
    "    for factor, count in factors:\n",
    "        if count == 1:\n",
    "            result += f\"({factor})\"\n",
    "        else:\n",
    "            result += f\"({factor}**{count})\"\n",
    "    return result\n",
    "\n",
    "def test_factorization_string():\n",
    "    assert factorization_string(86240) == \"(2**5)(5)(7**2)(11)\"\n",
    "    assert factorization_string(2) == \"(2)\"\n",
    "    assert factorization_string(13) == \"(13)\"\n",
    "    assert factorization_string(120) == \"(2**3)(3)(5)\"\n",
    "    print(\"Тесты пройдены!\")\n",
    "\n",
    "test_factorization_string()"
   ]
  },
  {
   "cell_type": "markdown",
   "metadata": {
    "id": "ps2s0BudX7A2"
   },
   "source": [
    "# Задача 7\n",
    "Написать функцию, принимающая целое число n, задающее количество кубиков. Функция\n",
    "должна определить, можно ли из данного кол-ва кубиков построить пирамиду, то есть\n",
    "можно ли представить число n как 1^2+2^2+3^2+…+k^2. Если можно, то функция должна\n",
    "вернуть k, иначе строку “It is impossible”. Написать тесты для кода"
   ]
  },
  {
   "cell_type": "code",
   "execution_count": 12,
   "metadata": {
    "id": "3YPjEXxhX_YT"
   },
   "outputs": [
    {
     "name": "stdout",
     "output_type": "stream",
     "text": [
      "Тесты пройдены!\n"
     ]
    }
   ],
   "source": [
    "def pyramid(number):\n",
    "    k = 1\n",
    "    while True:\n",
    "        number -= k ** 2\n",
    "        if number < 0:\n",
    "            return 'It is impossible'\n",
    "        elif number == 0:\n",
    "            return k\n",
    "        else:\n",
    "            k += 1\n",
    "\n",
    "def test_pyramid():\n",
    "    assert pyramid(5)==2\n",
    "    assert pyramid(4)==\"It is impossible\"\n",
    "    assert pyramid(385)==10\n",
    "    print(\"Тесты пройдены!\")\n",
    "\n",
    "test_pyramid()"
   ]
  },
  {
   "cell_type": "markdown",
   "metadata": {
    "id": "KeKgmIdAQMEJ"
   },
   "source": [
    "# Задача 8\n",
    "Функция принимает на вход положительное число и определяет является ли оно сбалансированным, т.е. сумма цифр до средних равна сумме цифр после. Средними в случае нечетного числа цифр считать одну цифру, в случае четного - две средних. Написать тесты для кода"
   ]
  },
  {
   "cell_type": "code",
   "execution_count": 14,
   "metadata": {
    "id": "gMAAqtqlQrZt"
   },
   "outputs": [
    {
     "name": "stdout",
     "output_type": "stream",
     "text": [
      "Тесты пройдены!\n"
     ]
    }
   ],
   "source": [
    "def is_balanced(number: int) -> True:\n",
    "    string_number = str(number)\n",
    "    len_number = len(string_number)\n",
    "    first_part = string_number[:(len_number // 2 + len_number % 2)]\n",
    "    second_part = string_number[(len_number // 2):]\n",
    "    first_part_sum = 0\n",
    "    second_part_sum = 0\n",
    "\n",
    "    for i in range(len(first_part)):\n",
    "        first_part_sum += int(first_part[i])\n",
    "        second_part_sum += int(second_part[i])\n",
    "    \n",
    "    return first_part_sum == second_part_sum\n",
    "\n",
    "def test_is_balanced():\n",
    "    assert is_balanced(123321) == True\n",
    "    assert is_balanced(1234321) == True\n",
    "    assert is_balanced(415901) == True\n",
    "    assert is_balanced(654321) == False\n",
    "    assert is_balanced(153259) == False\n",
    "    print(\"Тесты пройдены!\")\n",
    "\n",
    "# Запуск тестов\n",
    "test_is_balanced()"
   ]
  },
  {
   "cell_type": "code",
   "execution_count": null,
   "metadata": {},
   "outputs": [],
   "source": []
  }
 ],
 "metadata": {
  "colab": {
   "provenance": []
  },
  "kernelspec": {
   "display_name": "Python 3 (ipykernel)",
   "language": "python",
   "name": "python3"
  },
  "language_info": {
   "codemirror_mode": {
    "name": "ipython",
    "version": 3
   },
   "file_extension": ".py",
   "mimetype": "text/x-python",
   "name": "python",
   "nbconvert_exporter": "python",
   "pygments_lexer": "ipython3",
   "version": "3.11.7"
  }
 },
 "nbformat": 4,
 "nbformat_minor": 4
}
