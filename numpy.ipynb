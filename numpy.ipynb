{
 "cells": [
  {
   "cell_type": "markdown",
   "metadata": {
    "id": "vC84e9kzyxPy"
   },
   "source": [
    "<h1>Импорт библиотек"
   ]
  },
  {
   "cell_type": "code",
   "execution_count": 7,
   "metadata": {
    "id": "cgKeNegmQG5S"
   },
   "outputs": [],
   "source": [
    "import numpy as np\n",
    "import matplotlib.pyplot as plt\n",
    "import pytest"
   ]
  },
  {
   "cell_type": "markdown",
   "metadata": {
    "id": "qFM9uVU2x4Ls"
   },
   "source": [
    "<h1>Задача 1. Дан набор из $p$ матриц размерностью $(n, n)$ и $p$ векторов размерностью $(n, 1)$, найти сумму произведений матриц на векторы. Написать тесты для кода"
   ]
  },
  {
   "cell_type": "code",
   "execution_count": 8,
   "metadata": {
    "id": "IAbUvEiYyWFF"
   },
   "outputs": [
    {
     "name": "stdout",
     "output_type": "stream",
     "text": [
      "Тест 1 пройден\n",
      "Тест 2 пройден\n"
     ]
    }
   ],
   "source": [
    "def sum_prod(X, V):\n",
    "    '''\n",
    "    X - матрицы (n, n)\n",
    "    V - векторы (n, 1)\n",
    "    Гарантируется, что len(X) == len(V)\n",
    "    '''\n",
    "    number_matrices = len(X)\n",
    "    sum_products = 0.0\n",
    "    for i in range(number_matrices):\n",
    "        sum_products += X[i] @ V[i]\n",
    "    \n",
    "    return sum_products\n",
    "\n",
    "def test1():\n",
    "    matrices = [np.arange(4,13).reshape(3,3), np.array([[1,2,3], [2,5,6], [6,7,4]])]\n",
    "    vectors = [np.array([1,2,3]), np.array([4,7,2])]\n",
    "    sum_products = sum_prod(matrices, vectors)\n",
    "\n",
    "    assert np.array_equal(sum_products, [56, 105, 149]), \"Тест 1 не пройден\"\n",
    "    print('Тест 1 пройден')\n",
    "\n",
    "test1()\n",
    "\n",
    "def test2():\n",
    "    matrices = [np.arange(1,10).reshape(3,3), np.array([[0.5, 0.3, 0.1], [0.2, 0.4, 0.6], [0.9, 0.7, 0.8]]), \n",
    "                np.array([[15, 18, 13], [40, 74, 0], [4, 32, 4]])]\n",
    "    vectors = [np.array([1,2,3]), np.array([0.5, 0.7, 0.9]), np.array([20, 0, 12])]\n",
    "    sum_products = sum_prod(matrices, vectors)\n",
    "\n",
    "    assert np.array_equal(sum_products, [470.55, 832.92, 179.66]), \"Тест 2 не пройден\"\n",
    "    print('Тест 2 пройден')\n",
    "\n",
    "test2()"
   ]
  },
  {
   "cell_type": "markdown",
   "metadata": {
    "id": "TKwPG4fIy2w4"
   },
   "source": [
    "<h1>Задача 2. Дана матрица M, напишите функцию, которая бинаризует матрицу по некоторому threshold (то есть, все значения большие threshold становятся равными 1, иначе 0). Напишите тесты для кода"
   ]
  },
  {
   "cell_type": "code",
   "execution_count": 9,
   "metadata": {
    "id": "KQDNMgsjRNH7"
   },
   "outputs": [
    {
     "name": "stdout",
     "output_type": "stream",
     "text": [
      "Тест пройден успешно!\n"
     ]
    }
   ],
   "source": [
    "def binarize_matrix(M, threshold):\n",
    "    '''\n",
    "    M - входная матрица\n",
    "    threshold - порог для бинаризации\n",
    "    '''\n",
    "    binary_matrix = np.where(M > threshold, 1, 0)\n",
    "    return binary_matrix\n",
    "    \n",
    "\n",
    "M = np.array([[0.1, 0.5, 0.8], [0.3, 0.7, 0.9]])\n",
    "threshold = 0.6\n",
    "\n",
    "expected_result = np.array([[0, 0, 1], [0, 1, 1]])\n",
    "\n",
    "def test_binarize_matrix():\n",
    "    result = binarize_matrix(M, threshold)\n",
    "    if np.array_equal(result, expected_result):\n",
    "        print(\"Тест пройден!\")\n",
    "    else:\n",
    "        print(\"Тест не пройден. Полученный результат:\")\n",
    "        print(result)\n",
    "\n",
    "test_binarize_matrix()"
   ]
  },
  {
   "cell_type": "markdown",
   "metadata": {
    "id": "IY5L-h-7zWhN"
   },
   "source": [
    "<h1>Задача 3. Напишите функцию, которая возвращает уникальные элементы из каждой строки матрицы. Напишите такую же функцию, но для столбцов. Напишите тесты для кода"
   ]
  },
  {
   "cell_type": "code",
   "execution_count": 14,
   "metadata": {
    "id": "-8dEZhR0SBC-"
   },
   "outputs": [
    {
     "name": "stdout",
     "output_type": "stream",
     "text": [
      "Тест 1 для строк пройден\n",
      "Тест 2 для строк пройден\n",
      "Тест 1 для столбцов пройден\n",
      "Тест 2 для столбцов пройден\n"
     ]
    }
   ],
   "source": [
    "def unique_rows(mat):\n",
    "    unique_elements = []\n",
    "    for row in mat:\n",
    "        unique_elements.extend(np.unique(row))\n",
    "        \n",
    "    return unique_elements\n",
    "\n",
    "def unique_columns(mat):\n",
    "    transponsed_matrix = np.transpose(mat)\n",
    "    unique_elements = []\n",
    "    for row in transponsed_matrix:\n",
    "        unique_elements.extend(np.unique(row))\n",
    "    \n",
    "    return unique_elements\n",
    "\n",
    "def test_rows_1():\n",
    "    matrix = np.array([[1, 2, 3],\n",
    "                   [4, 5, 6],\n",
    "                   [1, 2, 3]])\n",
    "    \n",
    "    res = unique_rows(matrix)\n",
    "\n",
    "    assert np.array_equal(res, [1, 2, 3, 4, 5, 6, 1, 2, 3]), \"Тест 1 для строк не пройден\"\n",
    "    print('Тест 1 для строк пройден')\n",
    "\n",
    "test_rows_1()\n",
    "\n",
    "def test_rows_2():\n",
    "    matrix = np.array([[1, 1, 1],\n",
    "                   [2, 2, 2],\n",
    "                   [3, 3, 3]])\n",
    "    \n",
    "    res = unique_rows(matrix)\n",
    "\n",
    "    assert np.array_equal(res, [1, 2, 3]), \"Тест 2 для строк не пройден\"\n",
    "    print('Тест 2 для строк пройден')\n",
    "\n",
    "test_rows_2()\n",
    "\n",
    "def test_columns_1():\n",
    "    matrix = np.array([[1, 2, 3],\n",
    "                   [4, 5, 6],\n",
    "                   [1, 2, 3]])\n",
    "    \n",
    "    res = unique_columns(matrix)\n",
    "\n",
    "    assert np.array_equal(res, [1, 4, 2, 5, 3, 6]), \"Тест 1 для столбцов не пройден\"\n",
    "    print('Тест 1 для столбцов пройден')\n",
    "\n",
    "test_columns_1()\n",
    "\n",
    "def test_columns_2():\n",
    "    matrix = np.array([[1, 1, 1],\n",
    "                   [2, 2, 2],\n",
    "                   [3, 3, 3]])\n",
    "    \n",
    "    res = unique_columns(matrix)\n",
    "\n",
    "    assert np.array_equal(res, [1, 2, 3, 1, 2, 3, 1, 2, 3]), \"Тест 2 для столбцов не пройден\"\n",
    "    print('Тест 2 для столбцов пройден')\n",
    "\n",
    "test_columns_2()"
   ]
  },
  {
   "cell_type": "markdown",
   "metadata": {
    "id": "roYAlo4Jz-lH"
   },
   "source": [
    "<h1>Задача 4. Напишите функцию, которая заполняет матрицу с размерами $(m, n)$ случайными числами, распределенными по нормальному закону. Затем считает мат. ожидание и дисперсию для каждого из столбцов и строк, а также строит для каждой строки и столбца гистограмму значений (использовать функцию hist из модуля matplotlib.plot)"
   ]
  },
  {
   "cell_type": "code",
   "execution_count": 15,
   "metadata": {
    "id": "nZK_71hMSQzv"
   },
   "outputs": [
    {
     "data": {
      "image/png": "[encoded data removed]",
      "text/plain": [
       "<Figure size 640x480 with 1 Axes>"
      ]
     },
     "metadata": {},
     "output_type": "display_data"
    },
    {
     "data": {
      "image/png": "[encoded data removed]",
      "text/plain": [
       "<Figure size 640x480 with 1 Axes>"
      ]
     },
     "metadata": {},
     "output_type": "display_data"
    },
    {
     "name": "stdout",
     "output_type": "stream",
     "text": [
      "Матрица:\n",
      "[[-1.23394973  0.1428428  -0.32352886]\n",
      " [ 0.17095705  1.95123288  0.83389171]\n",
      " [ 0.08889482  0.46532479 -1.44988509]]\n",
      "Мат ожидания строк: [-0.47154527  0.98536055 -0.29855516]\n",
      "Мат ожидания столбцов: [-0.32469929  0.85313349 -0.31317408]\n",
      "Дисперии строк: [0.32688071 0.53970174 0.68639689]\n",
      "Дисперсии столбцов: [0.41449055 0.62024358 0.86932635]\n"
     ]
    }
   ],
   "source": [
    "def fill_matrix(m, n):\n",
    "    matrix = np.random.normal(size=(m, n))\n",
    "    row_mat_expectation = np.mean(matrix, axis=1)\n",
    "    column_mat_expectation = np.mean(matrix, axis=0)\n",
    "    row_dispersion = np.var(matrix, axis=1)\n",
    "    column_dispersion = np.var(matrix, axis=0)\n",
    "\n",
    "    for i in range(m):\n",
    "        plt.hist(matrix[i], label=f\"Строка {i + 1}\")\n",
    "    plt.title('Гистограммы для строк')\n",
    "    plt.legend()\n",
    "    plt.show()\n",
    "\n",
    "    transponsed_matrix = np.transpose(matrix)\n",
    "    for i in range(n):\n",
    "        plt.hist(transponsed_matrix[i], label=f\"Столбец {i + 1}\")\n",
    "    plt.title('Гистограммы для столбцов')\n",
    "    plt.legend()\n",
    "    plt.show()\n",
    "\n",
    "    return matrix, row_mat_expectation, column_mat_expectation, row_dispersion, column_dispersion\n",
    "matrix, row_mat_expectation, column_mat_expectation, row_dispersion, column_dispersion = fill_matrix(3, 3)\n",
    "\n",
    "print(f\"Матрица:\\n{matrix}\")\n",
    "print(f\"Мат ожидания строк: {row_mat_expectation}\")\n",
    "print(f\"Мат ожидания столбцов: {column_mat_expectation}\")\n",
    "print(f\"Дисперии строк: {row_dispersion}\")\n",
    "print(f\"Дисперсии столбцов: {column_dispersion}\")"
   ]
  },
  {
   "cell_type": "markdown",
   "metadata": {
    "id": "BDyATNdM0dJ2"
   },
   "source": [
    "<h1>Задача 5. Напишите функцию, которая заполняет матрицу $(m, n)$ в шахматном порядке заданными числами $a$ и $b$. Напишите тесты для кода"
   ]
  },
  {
   "cell_type": "code",
   "execution_count": 16,
   "metadata": {
    "id": "RWNJYWQGecS6"
   },
   "outputs": [
    {
     "name": "stdout",
     "output_type": "stream",
     "text": [
      "Все тесты пройдены успешно!\n"
     ]
    }
   ],
   "source": [
    "def chess(m, n, a, b):\n",
    "    matrix = []\n",
    "    for i in range(m):\n",
    "        row = []\n",
    "        for j in range(n):\n",
    "            if (i + j) % 2 == 0:\n",
    "                row.append(a)\n",
    "            else:\n",
    "                row.append(b)\n",
    "        matrix.append(row)\n",
    "    return matrix\n",
    "\n",
    "def test_chess():\n",
    "    m, n = 3, 4\n",
    "    a, b = 1, 0\n",
    "    expected_result = [[1, 0, 1, 0],\n",
    "                       [0, 1, 0, 1],\n",
    "                       [1, 0, 1, 0]]\n",
    "    result = chess(m, n, a, b)\n",
    "    assert result == expected_result, f\"Ожидаемый результат: {expected_result}, Полученный результат: {result}\"\n",
    "    \n",
    "    # Тест с четными размерами матрицы\n",
    "    m, n = 4, 4\n",
    "    a, b = 2, 3\n",
    "    expected_result = [[2, 3, 2, 3],\n",
    "                       [3, 2, 3, 2],\n",
    "                       [2, 3, 2, 3],\n",
    "                       [3, 2, 3, 2]]\n",
    "    result = chess(m, n, a, b)\n",
    "    assert result == expected_result, f\"Ожидаемый результат: {expected_result}, Полученный результат: {result}\"\n",
    "\n",
    "test_chess()\n",
    "print(\"Все тесты пройдены успешно!\")"
   ]
  },
  {
   "cell_type": "markdown",
   "metadata": {
    "id": "-ymXLtTN0vB6"
   },
   "source": [
    "<h1>Задача 6. Напишите функцию, которая отрисовывает прямоугольник с заданными размерами (a, b) на изображении размера (m, n), цвет фона задайте в схеме RGB, как и цвет прямоугольника. Цвета также должны быть параметрами функции. Напишите аналогичную функцию но для овала с полуосями a и b. Напишите тесты для кода.\n",
    "Примечание: уравнение эллипса (границы овала) можно записать как:\n",
    "<h1>$\\frac{(x-x_0)^2}{a^2}+\\frac{(y-y_0)^2}{b^2}=1$"
   ]
  },
  {
   "cell_type": "code",
   "execution_count": 18,
   "metadata": {
    "id": "sNfl1t_kfOF4"
   },
   "outputs": [
    {
     "name": "stderr",
     "output_type": "stream",
     "text": [
      "Clipping input data to the valid range for imshow with RGB data ([0..1] for floats or [0..255] for integers).\n"
     ]
    },
    {
     "data": {
      "image/png": "[encoded data removed]",
      "text/plain": [
       "<Figure size 640x480 with 1 Axes>"
      ]
     },
     "metadata": {},
     "output_type": "display_data"
    },
    {
     "name": "stderr",
     "output_type": "stream",
     "text": [
      "Clipping input data to the valid range for imshow with RGB data ([0..1] for floats or [0..255] for integers).\n"
     ]
    },
    {
     "data": {
      "image/png": "[encoded data removed]",
      "text/plain": [
       "<Figure size 640x480 with 1 Axes>"
      ]
     },
     "metadata": {},
     "output_type": "display_data"
    }
   ],
   "source": [
    "def draw_rectangle(a, b, m, n, rectangle_color, background_color):\n",
    "    image = np.ones((m, n, 3)) * background_color\n",
    "\n",
    "    x1, y1 = (n - a) // 2, (m - b) // 2\n",
    "    x2, y2 = x1 + a, y1 + b\n",
    "\n",
    "    image[y1:y2, x1:x2] = rectangle_color\n",
    "\n",
    "    plt.imshow(image)\n",
    "    plt.axis('off')\n",
    "    plt.show()\n",
    "\n",
    "def draw_ellipse(a, b, m, n, ellipse_color, background_color):\n",
    "    image = np.ones((m, n, 3)) * background_color\n",
    "\n",
    "    y, x = np.ogrid[:m, :n]\n",
    "    ellipse = ((x - n // 2) / a)**2 + ((y - m // 2) / b)**2 <= 1\n",
    "    image[ellipse] = ellipse_color\n",
    "\n",
    "    plt.imshow(image)\n",
    "    plt.axis('off')\n",
    "    plt.show()\n",
    "\n",
    "background_color = (255, 255, 255)  # Белый\n",
    "rectangle_color = (0, 128, 0) # Зеленый\n",
    "ellipse_color = (0, 0, 255) # Синий\n",
    "\n",
    "draw_rectangle(200, 300, 400, 600, rectangle_color, background_color)\n",
    "draw_ellipse(200, 100, 400, 600, ellipse_color, background_color)"
   ]
  },
  {
   "cell_type": "markdown",
   "metadata": {
    "id": "S82c38oz244H"
   },
   "source": [
    "<h1>Задача 7. Дан некий временной ряд. Для данного ряда нужно найти его: математическое ожидание, дисперсию, СКО, найти все локальные максимумы и минимумы (локальный максимум - это точка, которая больше своих соседних точек, а локальный минимум - это точка, которая меньше своих соседей), а также вычислить для данного ряда другой ряд, получаемый методом скользящего среднего с размером окна $p$.\n",
    "<h1>Примечание: метод скользящего среднего подразумевает нахождение среднего из подмножетсва ряда размером $p$"
   ]
  },
  {
   "cell_type": "code",
   "execution_count": 19,
   "metadata": {
    "id": "Zb9mIVge5MMt"
   },
   "outputs": [
    {
     "name": "stdout",
     "output_type": "stream",
     "text": [
      "Математическое ожидание: 2.7777777777777777\n",
      "Дисперсия: 1.7283950617283952\n",
      "Стандартное отклонение: 1.314684396244359\n",
      "Локальные максимумы: [4]\n",
      "Локальные минимумы: []\n"
     ]
    }
   ],
   "source": [
    "def calculate_values(numbers):\n",
    "    mean = np.mean(numbers)\n",
    "    variance = np.var(numbers)\n",
    "    std_deviation = np.std(numbers)\n",
    "    \n",
    "    local_maximum = np.where((numbers[1:-1] > numbers[:-2]) & (numbers[1:-1] > numbers[2:]))[0] + 1\n",
    "    local_minimum = np.where((numbers[1:-1] < numbers[:-2]) & (numbers[1:-1] < numbers[2:]))[0] + 1\n",
    "\n",
    "    return mean, variance, std_deviation, local_maximum, local_minimum\n",
    "\n",
    "def test():\n",
    "    numbers = np.array([1, 2, 3, 4, 5, 4, 3, 2, 1])\n",
    "    mean, variance, std_deviation, local_maximum, local_minimum = calculate_values(numbers)\n",
    "\n",
    "    print(\"Математическое ожидание:\", mean)\n",
    "    print(\"Дисперсия:\", variance)\n",
    "    print(\"Стандартное отклонение:\", std_deviation)\n",
    "    print(\"Локальные максимумы:\", local_maximum)\n",
    "    print(\"Локальные минимумы:\", local_minimum)\n",
    "\n",
    "test()"
   ]
  },
  {
   "cell_type": "markdown",
   "metadata": {
    "id": "jPkylmOX5O9n"
   },
   "source": [
    "<h1> Задача 8. Дан некоторый вектор с целочисленными метками классов, напишите функцию, которая выполняет one-hot-encoding для данного вектора\n",
    "<h1> One-hot-encoding - представление, в котором на месте метки некоторого класса стоит 1, в остальных позициях стоит 0. Например для вектора [0, 2, 3, 0] one-hot-encoding выглядит как: [[1, 0, 0, 0], [0, 0, 1, 0], [0, 0, 0, 1], [1, 0, 0, 0]]"
   ]
  },
  {
   "cell_type": "code",
   "execution_count": null,
   "metadata": {
    "id": "Y-jlnZvw56lD"
   },
   "outputs": [],
   "source": [
    "def one_hot_encoding(v):\n",
    "    num_classes = len(v)\n",
    "    max_value = max(v) + 1\n",
    "\n",
    "    matrix = np.zeros((max_value, num_classes))\n",
    "\n",
    "    for i, label in enumerate(v):\n",
    "        matrix[i][label] = 1\n",
    "\n",
    "    return matrix\n",
    "\n",
    "ef test():\n",
    "    v = np.array([0, 2, 3, 0])\n",
    "    result = one_hot_encoding(v)\n",
    "    expected = np.array([[1, 0, 0, 0], [0, 0, 1, 0], [0, 0, 0, 1], [1, 0, 0, 0]])\n",
    "\n",
    "    assert np.array_equal(result, expected), 'Тест не пройден'\n",
    "    print('Тест успешно пройден')\n",
    "\n",
    "test()"
   ]
  }
 ],
 "metadata": {
  "colab": {
   "provenance": []
  },
  "kernelspec": {
   "display_name": "Python 3 (ipykernel)",
   "language": "python",
   "name": "python3"
  },
  "language_info": {
   "codemirror_mode": {
    "name": "ipython",
    "version": 3
   },
   "file_extension": ".py",
   "mimetype": "text/x-python",
   "name": "python",
   "nbconvert_exporter": "python",
   "pygments_lexer": "ipython3",
   "version": "3.11.7"
  }
 },
 "nbformat": 4,
 "nbformat_minor": 4
}
